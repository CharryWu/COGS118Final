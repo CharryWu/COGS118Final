{
 "cells": [
  {
   "cell_type": "code",
   "execution_count": 1,
   "metadata": {
    "ExecuteTime": {
     "end_time": "2018-03-26T04:45:32.584293Z",
     "start_time": "2018-03-26T04:45:29.458146Z"
    }
   },
   "outputs": [],
   "source": [
    "import scipy.io as sio\n",
    "from scipy.stats import mode\n",
    "import matplotlib.pyplot as plt\n",
    "import numpy as np\n",
    "import pandas as pd\n",
    "import seaborn as sns\n",
    "from sklearn.metrics import accuracy_score\n",
    "from sklearn import svm\n",
    "from sklearn.utils import shuffle\n",
    "from sklearn.model_selection import GridSearchCV\n",
    "from sklearn.model_selection import train_test_split\n",
    "from sklearn.model_selection import cross_val_score\n",
    "from sklearn.tree import DecisionTreeClassifier\n",
    "from sklearn.neighbors import KNeighborsClassifier\n",
    "from sklearn.metrics import accuracy_score\n",
    "from sklearn import preprocessing\n",
    "from sklearn.svm import LinearSVC\n",
    "from sklearn.svm import SVC\n",
    "from sklearn.linear_model import LogisticRegression\n",
    "\n",
    "%config InlineBackend.figure_format = 'retina'"
   ]
  },
  {
   "cell_type": "code",
   "execution_count": 2,
   "metadata": {
    "ExecuteTime": {
     "end_time": "2018-03-26T04:45:32.664024Z",
     "start_time": "2018-03-26T04:45:32.587508Z"
    }
   },
   "outputs": [],
   "source": [
    "BEST_PARAM_TABLE=np.load('best_params_4.npy')\n",
    "ACCU_TABLE=np.load('accuracies_4.npy')"
   ]
  },
  {
   "cell_type": "code",
   "execution_count": 3,
   "metadata": {
    "ExecuteTime": {
     "end_time": "2018-03-26T04:45:32.680243Z",
     "start_time": "2018-03-26T04:45:32.672045Z"
    }
   },
   "outputs": [],
   "source": [
    "NUM_MODELS = ACCU_TABLE.shape[0]\n",
    "NUM_DATASETS = ACCU_TABLE.shape[1]\n",
    "NUM_PARTITIONS = ACCU_TABLE.shape[2]\n",
    "NUM_TRIALS = ACCU_TABLE.shape[3]"
   ]
  },
  {
   "cell_type": "code",
   "execution_count": 4,
   "metadata": {
    "ExecuteTime": {
     "end_time": "2018-03-26T04:45:32.707110Z",
     "start_time": "2018-03-26T04:45:32.686408Z"
    }
   },
   "outputs": [],
   "source": [
    "AVG_TEST_ACCU_TABLE = np.zeros((NUM_MODELS,\n",
    "                          NUM_DATASETS,\n",
    "                          NUM_PARTITIONS))\n",
    "AVG_TRAIN_ACCU_TABLE = np.zeros((NUM_MODELS,\n",
    "                          NUM_DATASETS,\n",
    "                          NUM_PARTITIONS))\n",
    "AVG_VAL_ACCU_TABLE = np.zeros((NUM_MODELS,\n",
    "                          NUM_DATASETS,\n",
    "                          NUM_PARTITIONS))"
   ]
  },
  {
   "cell_type": "code",
   "execution_count": 5,
   "metadata": {
    "ExecuteTime": {
     "end_time": "2018-03-26T04:45:32.723113Z",
     "start_time": "2018-03-26T04:45:32.710381Z"
    }
   },
   "outputs": [],
   "source": [
    "# averaging test accuracies over 3 trials in all experiments\n",
    "for model in range(NUM_MODELS):\n",
    "    for dataset in range(NUM_DATASETS):\n",
    "        for partition in range(NUM_PARTITIONS):\n",
    "            AVG_TRAIN_ACCU_TABLE[model,dataset,partition] = \\\n",
    "                (ACCU_TABLE[model,dataset,partition,0][0]\n",
    "                +ACCU_TABLE[model,dataset,partition,1][0]\n",
    "                +ACCU_TABLE[model,dataset,partition,2][0])/3"
   ]
  },
  {
   "cell_type": "code",
   "execution_count": 6,
   "metadata": {
    "ExecuteTime": {
     "end_time": "2018-03-26T04:45:32.735330Z",
     "start_time": "2018-03-26T04:45:32.726495Z"
    }
   },
   "outputs": [],
   "source": [
    "# averaging test accuracies over 3 trials in all experiments\n",
    "for model in range(NUM_MODELS):\n",
    "    for dataset in range(NUM_DATASETS):\n",
    "        for partition in range(NUM_PARTITIONS):\n",
    "            AVG_VAL_ACCU_TABLE[model,dataset,partition] = \\\n",
    "                (ACCU_TABLE[model,dataset,partition,0][1]\n",
    "                +ACCU_TABLE[model,dataset,partition,1][1]\n",
    "                +ACCU_TABLE[model,dataset,partition,2][1])/3"
   ]
  },
  {
   "cell_type": "code",
   "execution_count": 7,
   "metadata": {
    "ExecuteTime": {
     "end_time": "2018-03-26T04:45:32.749940Z",
     "start_time": "2018-03-26T04:45:32.739626Z"
    }
   },
   "outputs": [],
   "source": [
    "# averaging test accuracies over 3 trials in all experiments\n",
    "for model in range(NUM_MODELS):\n",
    "    for dataset in range(NUM_DATASETS):\n",
    "        for partition in range(NUM_PARTITIONS):\n",
    "            AVG_TEST_ACCU_TABLE[model,dataset,partition] = \\\n",
    "                (ACCU_TABLE[model,dataset,partition,0][2]\n",
    "                +ACCU_TABLE[model,dataset,partition,1][2]\n",
    "                +ACCU_TABLE[model,dataset,partition,2][2])/3"
   ]
  },
  {
   "cell_type": "code",
   "execution_count": 8,
   "metadata": {
    "ExecuteTime": {
     "end_time": "2018-03-26T04:45:32.768337Z",
     "start_time": "2018-03-26T04:45:32.754573Z"
    },
    "scrolled": true
   },
   "outputs": [
    {
     "data": {
      "text/plain": [
       "array([[[0.75450006, 0.75566675, 0.76366697],\n",
       "        [1.        , 1.        , 1.        ],\n",
       "        [1.        , 1.        , 1.        ]],\n",
       "\n",
       "       [[0.85404075, 0.86026586, 0.86999793],\n",
       "        [0.75466624, 0.75346449, 0.76800227],\n",
       "        [0.73954115, 0.74146637, 0.7598338 ]],\n",
       "\n",
       "       [[0.78879224, 0.79233318, 0.79466748],\n",
       "        [0.7510414 , 0.75146585, 0.76783618],\n",
       "        [0.73945771, 0.74253287, 0.76116646]],\n",
       "\n",
       "       [[1.        , 1.        , 1.        ],\n",
       "        [1.        , 1.        , 1.        ],\n",
       "        [1.        , 1.        , 1.        ]]])"
      ]
     },
     "execution_count": 8,
     "metadata": {},
     "output_type": "execute_result"
    }
   ],
   "source": [
    "AVG_TRAIN_ACCU_TABLE"
   ]
  },
  {
   "cell_type": "code",
   "execution_count": 9,
   "metadata": {
    "ExecuteTime": {
     "end_time": "2018-03-26T04:45:32.783057Z",
     "start_time": "2018-03-26T04:45:32.772184Z"
    },
    "scrolled": true
   },
   "outputs": [
    {
     "data": {
      "text/plain": [
       "array([[[0.75441667, 0.75546667, 0.76233333],\n",
       "        [0.73675   , 0.71106667, 0.67066667],\n",
       "        [0.93208333, 0.91586667, 0.857     ]],\n",
       "\n",
       "       [[0.84191667, 0.84066667, 0.82166667],\n",
       "        [0.7485    , 0.7472    , 0.73533333],\n",
       "        [0.73508333, 0.738     , 0.75333333]],\n",
       "\n",
       "       [[0.78883333, 0.79106667, 0.79366667],\n",
       "        [0.748     , 0.74533333, 0.73733333],\n",
       "        [0.73483333, 0.73853333, 0.74733333]],\n",
       "\n",
       "       [[0.84466667, 0.84853333, 0.83933333],\n",
       "        [0.80658333, 0.78466667, 0.75966667],\n",
       "        [0.92558333, 0.90986667, 0.86233333]]])"
      ]
     },
     "execution_count": 9,
     "metadata": {},
     "output_type": "execute_result"
    }
   ],
   "source": [
    "AVG_VAL_ACCU_TABLE"
   ]
  },
  {
   "cell_type": "code",
   "execution_count": 10,
   "metadata": {
    "ExecuteTime": {
     "end_time": "2018-03-26T04:45:32.802557Z",
     "start_time": "2018-03-26T04:45:32.791201Z"
    },
    "scrolled": true
   },
   "outputs": [
    {
     "data": {
      "text/plain": [
       "array([[[0.75733333, 0.75546667, 0.75441667],\n",
       "        [0.78333333, 0.73373333, 0.68466667],\n",
       "        [0.95133333, 0.93653333, 0.88516667]],\n",
       "\n",
       "       [[0.856     , 0.84186667, 0.83575   ],\n",
       "        [0.73866667, 0.73946667, 0.73491667],\n",
       "        [0.73666667, 0.73666667, 0.73233333]],\n",
       "\n",
       "       [[0.79566667, 0.79093333, 0.78775   ],\n",
       "        [0.73666667, 0.73666667, 0.73633333],\n",
       "        [0.74166667, 0.73986667, 0.73175   ]],\n",
       "\n",
       "       [[0.862     , 0.84693333, 0.83758333],\n",
       "        [0.811     , 0.80026667, 0.77116667],\n",
       "        [0.93633333, 0.92      , 0.88491667]]])"
      ]
     },
     "execution_count": 10,
     "metadata": {},
     "output_type": "execute_result"
    }
   ],
   "source": [
    "AVG_TEST_ACCU_TABLE"
   ]
  },
  {
   "cell_type": "code",
   "execution_count": 12,
   "metadata": {
    "ExecuteTime": {
     "end_time": "2018-03-26T04:58:15.503312Z",
     "start_time": "2018-03-26T04:58:15.499186Z"
    }
   },
   "outputs": [],
   "source": [
    "RANKING_TABLE = AVG_TEST_ACCU_TABLE"
   ]
  },
  {
   "cell_type": "code",
   "execution_count": 13,
   "metadata": {
    "ExecuteTime": {
     "end_time": "2018-03-26T05:06:10.845090Z",
     "start_time": "2018-03-26T05:06:10.837104Z"
    }
   },
   "outputs": [],
   "source": [
    "def get_rank_list(arr):\n",
    "    seq = sorted(arr)\n",
    "    return [seq.index(v) for v in arr]"
   ]
  },
  {
   "cell_type": "code",
   "execution_count": 15,
   "metadata": {
    "ExecuteTime": {
     "end_time": "2018-03-26T05:08:31.191637Z",
     "start_time": "2018-03-26T05:08:31.179228Z"
    }
   },
   "outputs": [],
   "source": [
    "for dataset in range(NUM_DATASETS):\n",
    "    for part in range(NUM_PARTITIONS):\n",
    "        scores = []\n",
    "        \n",
    "        for model in range(NUM_MODELS):\n",
    "            scores.append(AVG_TEST_ACCU_TABLE[model][dataset][part])\n",
    "        \n",
    "        rank_list = get_rank_list(scores)\n",
    "        \n",
    "        for model in range(NUM_MODELS):\n",
    "            model_rank = rank_list[model]\n",
    "            RANKING_TABLE[model][dataset][part] = model_rank"
   ]
  },
  {
   "cell_type": "code",
   "execution_count": 16,
   "metadata": {
    "ExecuteTime": {
     "end_time": "2018-03-26T05:08:45.439577Z",
     "start_time": "2018-03-26T05:08:45.432190Z"
    }
   },
   "outputs": [
    {
     "data": {
      "text/plain": [
       "array([[[0., 0., 0.],\n",
       "        [2., 0., 0.],\n",
       "        [3., 3., 3.]],\n",
       "\n",
       "       [[2., 2., 2.],\n",
       "        [1., 2., 1.],\n",
       "        [0., 0., 1.]],\n",
       "\n",
       "       [[1., 1., 1.],\n",
       "        [0., 1., 2.],\n",
       "        [1., 1., 0.]],\n",
       "\n",
       "       [[3., 3., 3.],\n",
       "        [3., 3., 3.],\n",
       "        [2., 2., 2.]]])"
      ]
     },
     "execution_count": 16,
     "metadata": {},
     "output_type": "execute_result"
    }
   ],
   "source": [
    "RANKING_TABLE"
   ]
  }
 ],
 "metadata": {
  "kernelspec": {
   "display_name": "Python 3",
   "language": "python",
   "name": "python3"
  },
  "language_info": {
   "codemirror_mode": {
    "name": "ipython",
    "version": 3
   },
   "file_extension": ".py",
   "mimetype": "text/x-python",
   "name": "python",
   "nbconvert_exporter": "python",
   "pygments_lexer": "ipython3",
   "version": "3.6.4"
  },
  "latex_envs": {
   "LaTeX_envs_menu_present": true,
   "autocomplete": true,
   "bibliofile": "biblio.bib",
   "cite_by": "apalike",
   "current_citInitial": 1,
   "eqLabelWithNumbers": true,
   "eqNumInitial": 1,
   "hotkeys": {
    "equation": "Ctrl-E",
    "itemize": "Ctrl-I"
   },
   "labels_anchors": false,
   "latex_user_defs": false,
   "report_style_numbering": false,
   "user_envs_cfg": false
  },
  "varInspector": {
   "cols": {
    "lenName": 16,
    "lenType": 16,
    "lenVar": "150"
   },
   "kernels_config": {
    "python": {
     "delete_cmd_postfix": "",
     "delete_cmd_prefix": "del ",
     "library": "var_list.py",
     "varRefreshCmd": "print(var_dic_list())"
    },
    "r": {
     "delete_cmd_postfix": ") ",
     "delete_cmd_prefix": "rm(",
     "library": "var_list.r",
     "varRefreshCmd": "cat(var_dic_list()) "
    }
   },
   "types_to_exclude": [
    "module",
    "function",
    "builtin_function_or_method",
    "instance",
    "_Feature"
   ],
   "window_display": false
  }
 },
 "nbformat": 4,
 "nbformat_minor": 2
}
